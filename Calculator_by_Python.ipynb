{
  "nbformat": 4,
  "nbformat_minor": 0,
  "metadata": {
    "colab": {
      "provenance": []
    },
    "kernelspec": {
      "name": "python3",
      "display_name": "Python 3"
    },
    "language_info": {
      "name": "python"
    }
  },
  "cells": [
    {
      "cell_type": "markdown",
      "source": [
        "This is a simple **Python-based calculator** program that allows users to perform basic arithmetic operations: addition, subtraction, multiplication, and division. The user is prompted to select an operation and enter two numbers, and the program then outputs the result of the chosen operation. The program also handles division by zero with an error message.\n",
        "\n",
        "\n",
        "\n"
      ],
      "metadata": {
        "id": "-UHwQJlL-_Jk"
      }
    },
    {
      "cell_type": "code",
      "execution_count": 1,
      "metadata": {
        "colab": {
          "base_uri": "https://localhost:8080/"
        },
        "id": "CVGz0pbG9cYJ",
        "outputId": "3552a05a-302d-45db-fb4e-21189bb4dbb5"
      },
      "outputs": [
        {
          "output_type": "stream",
          "name": "stdout",
          "text": [
            "Select operation:\n",
            "1. Add\n",
            "2. Subtract\n",
            "3. Multiply\n",
            "4. Divide\n",
            "Enter choice (1/2/3/4): 1\n",
            "Enter first number: 22\n",
            "Enter second number: 11\n",
            "22.0 + 11.0 = 33.0\n"
          ]
        }
      ],
      "source": [
        "# Define the function for calculator\n",
        "def calculator():\n",
        "    print(\"Select operation:\")\n",
        "    print(\"1. Add\")\n",
        "    print(\"2. Subtract\")\n",
        "    print(\"3. Multiply\")\n",
        "    print(\"4. Divide\")\n",
        "\n",
        "    # Take user input for operation\n",
        "    choice = input(\"Enter choice (1/2/3/4): \")\n",
        "\n",
        "    # Take user input for numbers\n",
        "    num1 = float(input(\"Enter first number: \"))\n",
        "    num2 = float(input(\"Enter second number: \"))\n",
        "\n",
        "    if choice == '1':\n",
        "        print(f\"{num1} + {num2} = {num1 + num2}\")\n",
        "    elif choice == '2':\n",
        "        print(f\"{num1} - {num2} = {num1 - num2}\")\n",
        "    elif choice == '3':\n",
        "        print(f\"{num1} * {num2} = {num1 * num2}\")\n",
        "    elif choice == '4':\n",
        "        if num2 != 0:\n",
        "            print(f\"{num1} / {num2} = {num1 / num2}\")\n",
        "        else:\n",
        "            print(\"Error! Division by zero.\")\n",
        "    else:\n",
        "        print(\"Invalid Input\")\n",
        "\n",
        "# Call the function to run the calculator\n",
        "calculator()\n"
      ]
    }
  ]
}